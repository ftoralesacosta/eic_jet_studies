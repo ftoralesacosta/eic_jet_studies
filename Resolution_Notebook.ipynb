{
 "cells": [
  {
   "cell_type": "code",
   "execution_count": 1,
   "id": "eec7b7da-53bc-48e1-9ee5-34606a7ae13e",
   "metadata": {},
   "outputs": [],
   "source": [
    "#%load_ext autoreload\n",
    "#%autoreload 2"
   ]
  },
  {
   "cell_type": "code",
   "execution_count": 2,
   "id": "36e018e1-ada6-4b2e-9d35-71608777e643",
   "metadata": {},
   "outputs": [
    {
     "name": "stdout",
     "output_type": "stream",
     "text": [
      "Welcome to JupyROOT 6.18/00\n",
      "histograms_reco_NoCuts_output_mom_res_sigma_eta_5_p_6_B\n"
     ]
    }
   ],
   "source": [
    "from resolutions import *"
   ]
  },
  {
   "cell_type": "code",
   "execution_count": 3,
   "id": "173b4be3-0ee3-4ab7-9310-e5c465839cce",
   "metadata": {},
   "outputs": [
    {
     "name": "stderr",
     "output_type": "stream",
     "text": [
      "IOPub data rate exceeded.\n",
      "The Jupyter server will temporarily stop sending output\n",
      "to the client in order to avoid crashing it.\n",
      "To change this limit, set the config variable\n",
      "`--ServerApp.iopub_data_rate_limit`.\n",
      "\n",
      "Current values:\n",
      "ServerApp.iopub_data_rate_limit=1000000.0 (bytes/sec)\n",
      "ServerApp.rate_limit_window=3.0 (secs)\n",
      "\n"
     ]
    }
   ],
   "source": [
    "get_th1f_dictionary()"
   ]
  },
  {
   "cell_type": "code",
   "execution_count": null,
   "id": "e03f1a86-fcf5-46af-b020-78e66b368812",
   "metadata": {},
   "outputs": [
    {
     "name": "stderr",
     "output_type": "stream",
     "text": [
      "/usr/common/software/python/3.7-anaconda-2019.10/lib/python3.7/site-packages/scipy/optimize/minpack.py:795: OptimizeWarning: Covariance of the parameters could not be estimated\n",
      "  category=OptimizeWarning)\n"
     ]
    }
   ],
   "source": [
    "gauss_type = \"double\"\n",
    "get_indv_resolutions(gauss_type)\n",
    "plot_indv_resolutions(gauss_type) #<- Comment out function for speed"
   ]
  },
  {
   "cell_type": "code",
   "execution_count": null,
   "id": "114aaa43-1d5d-457c-9b62-7e0997658610",
   "metadata": {},
   "outputs": [],
   "source": [
    "get_resolution_array()"
   ]
  },
  {
   "cell_type": "code",
   "execution_count": null,
   "id": "e9d96728-52fc-40a7-ae8d-08cce6d38899",
   "metadata": {},
   "outputs": [],
   "source": [
    "plot_resolutions_p_eta()"
   ]
  },
  {
   "cell_type": "code",
   "execution_count": null,
   "id": "edead41e-7338-4d2b-aa73-66c7689bc075",
   "metadata": {},
   "outputs": [],
   "source": [
    "weighted_avg_resolutions()"
   ]
  },
  {
   "cell_type": "code",
   "execution_count": null,
   "id": "d0e2958c-221b-4395-8886-424acfb991e6",
   "metadata": {},
   "outputs": [],
   "source": []
  }
 ],
 "metadata": {
  "kernelspec": {
   "display_name": "Python 3",
   "language": "python",
   "name": "python3"
  },
  "language_info": {
   "codemirror_mode": {
    "name": "ipython",
    "version": 3
   },
   "file_extension": ".py",
   "mimetype": "text/x-python",
   "name": "python",
   "nbconvert_exporter": "python",
   "pygments_lexer": "ipython3",
   "version": "3.7.4"
  }
 },
 "nbformat": 4,
 "nbformat_minor": 5
}
