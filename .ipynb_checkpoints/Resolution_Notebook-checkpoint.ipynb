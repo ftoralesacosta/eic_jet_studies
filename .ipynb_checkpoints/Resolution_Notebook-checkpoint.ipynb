{
 "cells": [
  {
   "cell_type": "code",
   "execution_count": 1,
   "id": "eec7b7da-53bc-48e1-9ee5-34606a7ae13e",
   "metadata": {},
   "outputs": [],
   "source": [
    "#%load_ext autoreload\n",
    "#%autoreload 2"
   ]
  },
  {
   "cell_type": "code",
   "execution_count": 2,
   "id": "36e018e1-ada6-4b2e-9d35-71608777e643",
   "metadata": {},
   "outputs": [
    {
     "name": "stdout",
     "output_type": "stream",
     "text": [
      "Welcome to JupyROOT 6.18/00\n"
     ]
    }
   ],
   "source": [
    "from resolutions import *"
   ]
  },
  {
   "cell_type": "code",
   "execution_count": 3,
   "id": "173b4be3-0ee3-4ab7-9310-e5c465839cce",
   "metadata": {},
   "outputs": [],
   "source": [
    "get_th1f_dictionary()"
   ]
  },
  {
   "cell_type": "code",
   "execution_count": null,
   "id": "e03f1a86-fcf5-46af-b020-78e66b368812",
   "metadata": {},
   "outputs": [
    {
     "name": "stdout",
     "output_type": "stream",
     "text": [
      "double\n"
     ]
    }
   ],
   "source": [
    "fit_type = \"single\"\n",
    "get_indv_resolutions()\n",
    "plot_indv_resolutions() #<- Comment out function for speed"
   ]
  },
  {
   "cell_type": "code",
   "execution_count": null,
   "id": "114aaa43-1d5d-457c-9b62-7e0997658610",
   "metadata": {},
   "outputs": [],
   "source": [
    "get_resolution_array()"
   ]
  },
  {
   "cell_type": "code",
   "execution_count": null,
   "id": "e9d96728-52fc-40a7-ae8d-08cce6d38899",
   "metadata": {},
   "outputs": [],
   "source": [
    "plot_resolutions_p_eta()"
   ]
  },
  {
   "cell_type": "code",
   "execution_count": null,
   "id": "edead41e-7338-4d2b-aa73-66c7689bc075",
   "metadata": {},
   "outputs": [],
   "source": []
  },
  {
   "cell_type": "code",
   "execution_count": null,
   "id": "9bf7dac8-aaff-40be-9e49-9ca2590804da",
   "metadata": {},
   "outputs": [],
   "source": [
    "for b in range (len(B_Fields)):\n",
    "    print(\"same eta, diff p\")\n",
    "    for p in range(N_mom):\n",
    "        print(res_array[1,b,:,p])\n",
    "    print(\"same p, diff eta\")\n",
    "    for eta in range (N_eta):\n",
    "        print(res_array[1,b,eta,:])"
   ]
  }
 ],
 "metadata": {
  "kernelspec": {
   "display_name": "Python 3",
   "language": "python",
   "name": "python3"
  },
  "language_info": {
   "codemirror_mode": {
    "name": "ipython",
    "version": 3
   },
   "file_extension": ".py",
   "mimetype": "text/x-python",
   "name": "python",
   "nbconvert_exporter": "python",
   "pygments_lexer": "ipython3",
   "version": "3.7.4"
  }
 },
 "nbformat": 4,
 "nbformat_minor": 5
}
