{
 "cells": [
  {
   "cell_type": "code",
   "execution_count": 1,
   "id": "44078bc8-cb0f-472e-a448-c88509f97da3",
   "metadata": {},
   "outputs": [],
   "source": [
    "%load_ext autoreload\n",
    "%autoreload 2"
   ]
  },
  {
   "cell_type": "code",
   "execution_count": 2,
   "id": "bd1b4401-3541-4ace-8ead-1662e0db5ceb",
   "metadata": {},
   "outputs": [
    {
     "name": "stdout",
     "output_type": "stream",
     "text": [
      "Welcome to JupyROOT 6.18/00\n"
     ]
    }
   ],
   "source": [
    "import ROOT\n",
    "import numpy as np\n",
    "from ROOT import TGraphErrors\n",
    "from ROOT import TVectorT\n",
    "import matplotlib.pyplot as plt\n",
    "from matplotlib import ticker\n",
    "from root_np_functions import *\n",
    "from plotting_functions import *"
   ]
  },
  {
   "cell_type": "code",
   "execution_count": 3,
   "id": "b9180fbb-c6c3-432e-b65d-91502610438f",
   "metadata": {},
   "outputs": [],
   "source": [
    "from scipy.optimize import curve_fit\n",
    "def gauss(x, a, x0, sigma):\n",
    "    return a * np.exp(-(x - x0) ** 2 / (2 * sigma ** 2))\n",
    "\n",
    "def double_gauss(x,a,mu0,sigma0,b,mu1,sigma1):\n",
    "    return (a * np.exp(-(x - mu0) ** 2 / (2 * sigma0 ** 2)) +\n",
    "            b * np.exp(-(x - mu1) ** 2 / (2 * sigma1 ** 2)) )"
   ]
  },
  {
   "cell_type": "code",
   "execution_count": 5,
   "id": "a33b6834-dc83-4a99-8f76-82d21f584869",
   "metadata": {},
   "outputs": [
    {
     "ename": "AttributeError",
     "evalue": "'TObject' object has no attribute 'GetNbinsX'",
     "output_type": "error",
     "traceback": [
      "\u001b[0;31m---------------------------------------------------------------------------\u001b[0m",
      "\u001b[0;31mAttributeError\u001b[0m                            Traceback (most recent call last)",
      "\u001b[0;32m<ipython-input-5-5324b9d9121f>\u001b[0m in \u001b[0;36m<module>\u001b[0;34m\u001b[0m\n\u001b[1;32m     35\u001b[0m             \u001b[0mfile\u001b[0m \u001b[0;34m=\u001b[0m \u001b[0mROOT\u001b[0m\u001b[0;34m.\u001b[0m\u001b[0mTFile\u001b[0m\u001b[0;34m.\u001b[0m\u001b[0mOpen\u001b[0m\u001b[0;34m(\u001b[0m\u001b[0mfilename\u001b[0m\u001b[0;34m)\u001b[0m\u001b[0;34m\u001b[0m\u001b[0;34m\u001b[0m\u001b[0m\n\u001b[1;32m     36\u001b[0m         \u001b[0;32mfor\u001b[0m \u001b[0ms\u001b[0m\u001b[0;34m,\u001b[0m\u001b[0md\u001b[0m \u001b[0;32min\u001b[0m \u001b[0mzip\u001b[0m\u001b[0;34m(\u001b[0m\u001b[0mprefixes\u001b[0m\u001b[0;34m,\u001b[0m\u001b[0mTDirectories\u001b[0m\u001b[0;34m)\u001b[0m\u001b[0;34m:\u001b[0m\u001b[0;34m\u001b[0m\u001b[0;34m\u001b[0m\u001b[0m\n\u001b[0;32m---> 37\u001b[0;31m             \u001b[0mh1dict_full\u001b[0m\u001b[0;34m[\u001b[0m\u001b[0ms\u001b[0m\u001b[0;34m+\u001b[0m\u001b[0;34m\"edges\"\u001b[0m\u001b[0;34m]\u001b[0m\u001b[0;34m,\u001b[0m\u001b[0mh1dict_full\u001b[0m\u001b[0;34m[\u001b[0m\u001b[0ms\u001b[0m\u001b[0;34m+\u001b[0m\u001b[0;34m\"centers\"\u001b[0m\u001b[0;34m]\u001b[0m\u001b[0;34m,\u001b[0m\u001b[0mh1dict_full\u001b[0m\u001b[0;34m[\u001b[0m\u001b[0ms\u001b[0m\u001b[0;34m+\u001b[0m\u001b[0;34m\"widths\"\u001b[0m\u001b[0;34m]\u001b[0m \u001b[0;34m=\u001b[0m \u001b[0mget_th1_binning_np\u001b[0m\u001b[0;34m(\u001b[0m\u001b[0mfile\u001b[0m\u001b[0;34m.\u001b[0m\u001b[0mGet\u001b[0m\u001b[0;34m(\u001b[0m\u001b[0;34m\"%s/%s_et_0_p_0_bin\"\u001b[0m\u001b[0;34m%\u001b[0m\u001b[0;34m(\u001b[0m\u001b[0ms\u001b[0m\u001b[0;34m,\u001b[0m\u001b[0md\u001b[0m\u001b[0;34m)\u001b[0m\u001b[0;34m)\u001b[0m\u001b[0;34m)\u001b[0m\u001b[0;34m\u001b[0m\u001b[0;34m\u001b[0m\u001b[0m\n\u001b[0m\u001b[1;32m     38\u001b[0m \u001b[0;34m\u001b[0m\u001b[0m\n\u001b[1;32m     39\u001b[0m             \u001b[0;32mfor\u001b[0m \u001b[0meta\u001b[0m \u001b[0;32min\u001b[0m \u001b[0mrange\u001b[0m\u001b[0;34m(\u001b[0m\u001b[0mN_eta\u001b[0m\u001b[0;34m)\u001b[0m\u001b[0;34m:\u001b[0m\u001b[0;34m\u001b[0m\u001b[0;34m\u001b[0m\u001b[0m\n",
      "\u001b[0;32m/global/project/projectdirs/alice/ftorales/eic_jet_studies/root_np_functions.py\u001b[0m in \u001b[0;36mget_th1_binning_np\u001b[0;34m(th1)\u001b[0m\n\u001b[1;32m     35\u001b[0m \u001b[0;34m\u001b[0m\u001b[0m\n\u001b[1;32m     36\u001b[0m \u001b[0;32mdef\u001b[0m \u001b[0mget_th1_binning_np\u001b[0m\u001b[0;34m(\u001b[0m\u001b[0mth1\u001b[0m\u001b[0;34m)\u001b[0m\u001b[0;34m:\u001b[0m\u001b[0;34m\u001b[0m\u001b[0;34m\u001b[0m\u001b[0m\n\u001b[0;32m---> 37\u001b[0;31m     \u001b[0mN\u001b[0m \u001b[0;34m=\u001b[0m \u001b[0mth1\u001b[0m\u001b[0;34m.\u001b[0m\u001b[0mGetNbinsX\u001b[0m\u001b[0;34m(\u001b[0m\u001b[0;34m)\u001b[0m\u001b[0;34m\u001b[0m\u001b[0;34m\u001b[0m\u001b[0m\n\u001b[0m\u001b[1;32m     38\u001b[0m     \u001b[0mmin\u001b[0m \u001b[0;34m=\u001b[0m \u001b[0mth1\u001b[0m\u001b[0;34m.\u001b[0m\u001b[0mGetXaxis\u001b[0m\u001b[0;34m(\u001b[0m\u001b[0;34m)\u001b[0m\u001b[0;34m.\u001b[0m\u001b[0mGetXmin\u001b[0m\u001b[0;34m(\u001b[0m\u001b[0;34m)\u001b[0m\u001b[0;34m\u001b[0m\u001b[0;34m\u001b[0m\u001b[0m\n\u001b[1;32m     39\u001b[0m     \u001b[0mmax\u001b[0m \u001b[0;34m=\u001b[0m \u001b[0mth1\u001b[0m\u001b[0;34m.\u001b[0m\u001b[0mGetXaxis\u001b[0m\u001b[0;34m(\u001b[0m\u001b[0;34m)\u001b[0m\u001b[0;34m.\u001b[0m\u001b[0mGetXmax\u001b[0m\u001b[0;34m(\u001b[0m\u001b[0;34m)\u001b[0m\u001b[0;34m\u001b[0m\u001b[0;34m\u001b[0m\u001b[0m\n",
      "\u001b[0;31mAttributeError\u001b[0m: 'TObject' object has no attribute 'GetNbinsX'"
     ]
    }
   ],
   "source": [
    "#filename = \"../../processing/histograms_reco_NoCuts_output_mom_res_3T_combinedsigma_eta_5_p_6_.root\"\n",
    "filename = \"histograms_reco_NoCuts_output_mom_res_sigma_eta_5_p_6_B_3.0.root\"\n",
    "filename_14T = \"histograms_reco_NoCuts_output_mom_res_sigma_eta_5_p_6_B_1.4.root\"\n",
    "file = ROOT.TFile.Open(filename)\n",
    "#file.ls()\n",
    "\n",
    "\n",
    "eta_binning = {}\n",
    "eta_binning[\"edges\"],N_eta= TVT_to_numpy(file,\"TVT_eta_bin\")\n",
    "eta_binning[\"centers\"], eta_binning[\"widths\"] = get_binning_from_edges(eta_binning[\"edges\"])\n",
    "\n",
    "mom_binning = {}\n",
    "mom_binning[\"edges\"],N_mom = TVT_to_numpy(file,\"TVT_mom_bin\")\n",
    "mom_binning[\"centers\"], mom_binning[\"widths\"] = get_binning_from_edges(mom_binning[\"edges\"])\n",
    "\n",
    "N_mom = len(mom_binning[\"centers\"])\n",
    "N_eta = len(eta_binning[\"centers\"])\n",
    "\n",
    "eta_colors = get_colors(plt.cm.winter, N_eta)\n",
    "mom_colors = get_colors(plt.cm.autumn, N_mom)\n",
    "\n",
    "\n",
    "B_Fields = [1.4,3.0]\n",
    "B_Strings = [\"1p4\",\"3\"]\n",
    "N_divs = N_mom\n",
    "xlims=[[-0.04,0.04]]\n",
    "prefixes = [\"h1_dph\"] #Types of Resolutions\n",
    "TDirectories = [\"dph_histos\"]\n",
    "\n",
    "h1dict_full = {}\n",
    "for B_String,B in zip(B_Strings,B_Fields):\n",
    "        if (B==1.4): \n",
    "            file = ROOT.TFile.Open(filename_14T)\n",
    "        if (B==3.0):\n",
    "            file = ROOT.TFile.Open(filename)\n",
    "        for s,d in zip(prefixes,TDirectories):\n",
    "            h1dict_full[s+\"edges\"],h1dict_full[s+\"centers\"],h1dict_full[s+\"widths\"] = get_th1_binning_np(file.Get(\"%s/%s_et_0_p_0_bin\"%(s,d)))\n",
    "\n",
    "            for eta in range(N_eta):\n",
    "                for p in range(N_mom):\n",
    "                    identifier = (\"%s_B_%s_eta_%i_p_%i\"%(s,B_String,eta,p))\n",
    "                    h1dict_full[identifier+\"_vals\"],h1dict_full[identifier+\"_errors\"] = TH1_to_numpy_wErrors(file.Get(\"%s/%s_et_%i_p_%i_bin\"%(s,eta,p),False,True))\n",
    "                    h1=file.Get(\"%s/\"%(d)+\"%s_et_%i_p_%i_bin\"%(s,eta,p))\n",
    "                    h1dict_full[identifier+\"_avg\"] = h1.GetMean()\n",
    "                    h1dict_full[identifier+\"_sigma\"] = h1.GetStdDev()\n",
    "                    #print(h1.GetMean())\n",
    "                    \n",
    "np.save(\"np_arrays/indv_histos.npy\",h1dict_full)"
   ]
  },
  {
   "cell_type": "code",
   "execution_count": null,
   "id": "1f564fdb-9298-4e39-9581-fada59d0ae0e",
   "metadata": {},
   "outputs": [],
   "source": [
    "#Set Fit Range for Single Gauss\n",
    "fit_min_value = -0.005\n",
    "fit_max_value = 0.005\n",
    "\n",
    "arr = h1dict_full[\"h1_dph\"+\"centers\"]\n",
    "min_array = np.absolute(arr-fit_min_value)\n",
    "max_array = np.absolute(arr-fit_max_value)\n",
    " \n",
    "min_index = np.argmin(min_array)\n",
    "max_index = np.argmin(max_array)+1\n",
    "\n",
    "B_Fields = [1.4,3.0]\n",
    "B_Strings = [\"1p4\",\"3\"]\n",
    "N_divs = N_mom\n",
    "xlims=[[-0.02,0.02]]"
   ]
  },
  {
   "cell_type": "code",
   "execution_count": null,
   "id": "c1139e3e-94ad-467e-9e09-311c20bc7276",
   "metadata": {},
   "outputs": [],
   "source": [
    "string_selections = [\"reco_NoCuts_\"] #Reco Cuts. First two may not sum to 3rd\n",
    "res_dict = {}\n",
    "h1dict = h1dict_full\n",
    "\n",
    "for s,xlim in zip(prefixes,xlims):\n",
    "    for B_String,B in zip(B_Strings,B_Fields):\n",
    "        fig = plt.figure(figsize=(18,12))\n",
    "        plt.xticks([])\n",
    "        plt.yticks([])\n",
    "        plt.title(r\"$\\Delta\\varphi$ Distributions (B = %1.1f T)\"%(B),fontsize=40,y=1.04,verticalalignment=\"bottom\")\n",
    "        i=0\n",
    "        for eta in range(N_eta):\n",
    "\n",
    "            for p in range(N_mom):\n",
    "                ax = fig.add_subplot(N_eta,N_divs,i+1)\n",
    "                i+=1\n",
    "                \n",
    "                if eta==0:\n",
    "                    p_range_string = r\"$%1.1f < p < %1.1f$\"%(mom_binning[\"edges\"][p],mom_binning[\"edges\"][p+1])\n",
    "                    plt.text(0.5,1.18,p_range_string,ha=\"center\",va=\"top\",size=20,transform=ax.transAxes)\n",
    "                if p==0:\n",
    "                    eta_range_string = r\"$%1.1f < \\eta < %1.1f$\"%(eta_binning[\"edges\"][eta],eta_binning[\"edges\"][eta+1])\n",
    "                    plt.ylabel(eta_range_string,fontsize=16)\n",
    "                \n",
    "                for col in [\"b\",\"r\",\"g\"]:\n",
    "\n",
    "                    identifier = (\"%s_B_%s_eta_%i_p_%i\"%(s,B_String,eta,p))\n",
    "                    plt.errorbar(h1dict[s+\"centers\"],h1dict[identifier+\"_vals\"],yerr=h1dict[identifier+\"_errors\"],fmt=\".\",color=col,alpha=0.8)\n",
    "                    ydata = h1dict[identifier+\"_vals\"]\n",
    "                    xdata=h1dict[s+\"centers\"]\n",
    "                    xdata=xdata[~np.isnan(ydata)]\n",
    "                    ydata=ydata[~np.isnan(ydata)]\n",
    "                    popt, pcov = curve_fit(double_gauss, xdata, ydata, p0=[ydata.max(), xdata.mean(), xdata.std()/4,ydata.max()/5,xdata.mean(),xdata.std()])\n",
    "                    plt.plot(xdata, double_gauss(xdata, *popt), 'r-', label='fit')\n",
    "                    #popt, pcov = curve_fit(gauss, xdata, ydata, p0=[ydata.max(), xdata.mean(), xdata.std()/4])\n",
    "                    #plt.plot(xdata, gauss(xdata, *popt), 'r-', label='fit')\n",
    "                    res_dict[identifier+\"_dDeltaPhi_res\"] = popt[5] #narrow gauss sigma\n",
    "                    #aesthetics\n",
    "                    plt.xlim(xlim)\n",
    "                    plt.xticks(fontsize=8)\n",
    "                    plt.yticks(fontsize=8)\n",
    "                    \n",
    "                    plt.text(0.98,0.95,\"B = %1.1f T\"%(B),ha=\"right\",va=\"top\",size=15,alpha=0.7,transform=ax.transAxes)\n",
    "        plt.tight_layout()\n",
    "        plt.savefig(s+\"_\"+B_String+\"_dpp_Overlays_Fits.pdf\")\n",
    "        #print(popt[5])"
   ]
  },
  {
   "cell_type": "code",
   "execution_count": null,
   "id": "2efa5e99-f6b6-4ddd-9b09-7cfeabec7d76",
   "metadata": {},
   "outputs": [],
   "source": []
  }
 ],
 "metadata": {
  "kernelspec": {
   "display_name": "Python 3",
   "language": "python",
   "name": "python3"
  },
  "language_info": {
   "codemirror_mode": {
    "name": "ipython",
    "version": 3
   },
   "file_extension": ".py",
   "mimetype": "text/x-python",
   "name": "python",
   "nbconvert_exporter": "python",
   "pygments_lexer": "ipython3",
   "version": "3.7.4"
  }
 },
 "nbformat": 4,
 "nbformat_minor": 5
}
